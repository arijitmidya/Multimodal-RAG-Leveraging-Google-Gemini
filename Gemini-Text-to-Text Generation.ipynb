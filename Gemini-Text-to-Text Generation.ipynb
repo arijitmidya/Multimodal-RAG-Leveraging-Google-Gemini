{
 "cells": [
  {
   "cell_type": "code",
   "execution_count": 3,
   "id": "fb1a0b6e-6654-45fc-a249-11e2c8d3c7db",
   "metadata": {},
   "outputs": [
    {
     "name": "stdout",
     "output_type": "stream",
     "text": [
      "Collecting google.generativeai\n",
      "  Downloading google_generativeai-0.8.3-py3-none-any.whl.metadata (3.9 kB)\n",
      "Collecting google-ai-generativelanguage==0.6.10 (from google.generativeai)\n",
      "  Downloading google_ai_generativelanguage-0.6.10-py3-none-any.whl.metadata (5.6 kB)\n",
      "Collecting google-api-core (from google.generativeai)\n",
      "  Using cached google_api_core-2.21.0-py3-none-any.whl.metadata (2.8 kB)\n",
      "Collecting google-api-python-client (from google.generativeai)\n",
      "  Downloading google_api_python_client-2.149.0-py2.py3-none-any.whl.metadata (6.7 kB)\n",
      "Collecting google-auth>=2.15.0 (from google.generativeai)\n",
      "  Using cached google_auth-2.35.0-py2.py3-none-any.whl.metadata (4.7 kB)\n",
      "Requirement already satisfied: protobuf in c:\\users\\ariji\\anaconda3\\lib\\site-packages (from google.generativeai) (3.20.3)\n",
      "Requirement already satisfied: pydantic in c:\\users\\ariji\\anaconda3\\lib\\site-packages (from google.generativeai) (2.5.3)\n",
      "Requirement already satisfied: tqdm in c:\\users\\ariji\\anaconda3\\lib\\site-packages (from google.generativeai) (4.66.4)\n",
      "Requirement already satisfied: typing-extensions in c:\\users\\ariji\\anaconda3\\lib\\site-packages (from google.generativeai) (4.11.0)\n",
      "Collecting proto-plus<2.0.0dev,>=1.22.3 (from google-ai-generativelanguage==0.6.10->google.generativeai)\n",
      "  Downloading proto_plus-1.25.0-py3-none-any.whl.metadata (2.2 kB)\n",
      "Collecting googleapis-common-protos<2.0.dev0,>=1.56.2 (from google-api-core->google.generativeai)\n",
      "  Using cached googleapis_common_protos-1.65.0-py2.py3-none-any.whl.metadata (1.5 kB)\n",
      "Requirement already satisfied: requests<3.0.0.dev0,>=2.18.0 in c:\\users\\ariji\\anaconda3\\lib\\site-packages (from google-api-core->google.generativeai) (2.32.2)\n",
      "Requirement already satisfied: cachetools<6.0,>=2.0.0 in c:\\users\\ariji\\anaconda3\\lib\\site-packages (from google-auth>=2.15.0->google.generativeai) (5.3.3)\n",
      "Requirement already satisfied: pyasn1-modules>=0.2.1 in c:\\users\\ariji\\anaconda3\\lib\\site-packages (from google-auth>=2.15.0->google.generativeai) (0.2.8)\n",
      "Collecting rsa<5,>=3.1.4 (from google-auth>=2.15.0->google.generativeai)\n",
      "  Using cached rsa-4.9-py3-none-any.whl.metadata (4.2 kB)\n",
      "Collecting httplib2<1.dev0,>=0.19.0 (from google-api-python-client->google.generativeai)\n",
      "  Downloading httplib2-0.22.0-py3-none-any.whl.metadata (2.6 kB)\n",
      "Collecting google-auth-httplib2<1.0.0,>=0.2.0 (from google-api-python-client->google.generativeai)\n",
      "  Downloading google_auth_httplib2-0.2.0-py2.py3-none-any.whl.metadata (2.2 kB)\n",
      "Collecting uritemplate<5,>=3.0.1 (from google-api-python-client->google.generativeai)\n",
      "  Downloading uritemplate-4.1.1-py2.py3-none-any.whl.metadata (2.9 kB)\n",
      "Requirement already satisfied: annotated-types>=0.4.0 in c:\\users\\ariji\\anaconda3\\lib\\site-packages (from pydantic->google.generativeai) (0.6.0)\n",
      "Requirement already satisfied: pydantic-core==2.14.6 in c:\\users\\ariji\\anaconda3\\lib\\site-packages (from pydantic->google.generativeai) (2.14.6)\n",
      "Requirement already satisfied: colorama in c:\\users\\ariji\\anaconda3\\lib\\site-packages (from tqdm->google.generativeai) (0.4.6)\n",
      "Collecting grpcio<2.0dev,>=1.33.2 (from google-api-core[grpc]!=2.0.*,!=2.1.*,!=2.10.*,!=2.2.*,!=2.3.*,!=2.4.*,!=2.5.*,!=2.6.*,!=2.7.*,!=2.8.*,!=2.9.*,<3.0.0dev,>=1.34.1->google-ai-generativelanguage==0.6.10->google.generativeai)\n",
      "  Using cached grpcio-1.67.0-cp312-cp312-win_amd64.whl.metadata (4.0 kB)\n",
      "Collecting grpcio-status<2.0.dev0,>=1.33.2 (from google-api-core[grpc]!=2.0.*,!=2.1.*,!=2.10.*,!=2.2.*,!=2.3.*,!=2.4.*,!=2.5.*,!=2.6.*,!=2.7.*,!=2.8.*,!=2.9.*,<3.0.0dev,>=1.34.1->google-ai-generativelanguage==0.6.10->google.generativeai)\n",
      "  Using cached grpcio_status-1.67.0-py3-none-any.whl.metadata (1.1 kB)\n",
      "Requirement already satisfied: pyparsing!=3.0.0,!=3.0.1,!=3.0.2,!=3.0.3,<4,>=2.4.2 in c:\\users\\ariji\\anaconda3\\lib\\site-packages (from httplib2<1.dev0,>=0.19.0->google-api-python-client->google.generativeai) (3.0.9)\n",
      "Requirement already satisfied: pyasn1<0.5.0,>=0.4.6 in c:\\users\\ariji\\anaconda3\\lib\\site-packages (from pyasn1-modules>=0.2.1->google-auth>=2.15.0->google.generativeai) (0.4.8)\n",
      "Requirement already satisfied: charset-normalizer<4,>=2 in c:\\users\\ariji\\anaconda3\\lib\\site-packages (from requests<3.0.0.dev0,>=2.18.0->google-api-core->google.generativeai) (2.0.4)\n",
      "Requirement already satisfied: idna<4,>=2.5 in c:\\users\\ariji\\anaconda3\\lib\\site-packages (from requests<3.0.0.dev0,>=2.18.0->google-api-core->google.generativeai) (3.7)\n",
      "Requirement already satisfied: urllib3<3,>=1.21.1 in c:\\users\\ariji\\anaconda3\\lib\\site-packages (from requests<3.0.0.dev0,>=2.18.0->google-api-core->google.generativeai) (2.2.2)\n",
      "Requirement already satisfied: certifi>=2017.4.17 in c:\\users\\ariji\\anaconda3\\lib\\site-packages (from requests<3.0.0.dev0,>=2.18.0->google-api-core->google.generativeai) (2024.8.30)\n",
      "Collecting protobuf (from google.generativeai)\n",
      "  Downloading protobuf-5.28.3-cp310-abi3-win_amd64.whl.metadata (592 bytes)\n",
      "Downloading google_generativeai-0.8.3-py3-none-any.whl (160 kB)\n",
      "   ---------------------------------------- 0.0/160.8 kB ? eta -:--:--\n",
      "   ---------------------------------------- 160.8/160.8 kB 4.9 MB/s eta 0:00:00\n",
      "Downloading google_ai_generativelanguage-0.6.10-py3-none-any.whl (760 kB)\n",
      "   ---------------------------------------- 0.0/760.0 kB ? eta -:--:--\n",
      "   ------------ --------------------------- 245.8/760.0 kB 7.6 MB/s eta 0:00:01\n",
      "   --------------------------- ------------ 522.2/760.0 kB 5.4 MB/s eta 0:00:01\n",
      "   ---------------------------------------- 760.0/760.0 kB 6.0 MB/s eta 0:00:00\n",
      "Using cached google_api_core-2.21.0-py3-none-any.whl (156 kB)\n",
      "Using cached google_auth-2.35.0-py2.py3-none-any.whl (208 kB)\n",
      "Downloading google_api_python_client-2.149.0-py2.py3-none-any.whl (12.3 MB)\n",
      "   ---------------------------------------- 0.0/12.3 MB ? eta -:--:--\n",
      "    --------------------------------------- 0.3/12.3 MB 9.6 MB/s eta 0:00:02\n",
      "   - -------------------------------------- 0.6/12.3 MB 6.5 MB/s eta 0:00:02\n",
      "   -- ------------------------------------- 0.9/12.3 MB 6.4 MB/s eta 0:00:02\n",
      "   --- ------------------------------------ 1.2/12.3 MB 6.3 MB/s eta 0:00:02\n",
      "   ---- ----------------------------------- 1.5/12.3 MB 6.4 MB/s eta 0:00:02\n",
      "   ----- ---------------------------------- 1.8/12.3 MB 6.4 MB/s eta 0:00:02\n",
      "   ------ --------------------------------- 2.1/12.3 MB 6.3 MB/s eta 0:00:02\n",
      "   ------- -------------------------------- 2.4/12.3 MB 6.3 MB/s eta 0:00:02\n",
      "   -------- ------------------------------- 2.7/12.3 MB 6.4 MB/s eta 0:00:02\n",
      "   --------- ------------------------------ 3.0/12.3 MB 6.4 MB/s eta 0:00:02\n",
      "   ---------- ----------------------------- 3.3/12.3 MB 6.4 MB/s eta 0:00:02\n",
      "   ----------- ---------------------------- 3.6/12.3 MB 6.1 MB/s eta 0:00:02\n",
      "   ------------ --------------------------- 3.9/12.3 MB 6.3 MB/s eta 0:00:02\n",
      "   ------------- -------------------------- 4.2/12.3 MB 6.3 MB/s eta 0:00:02\n",
      "   -------------- ------------------------- 4.5/12.3 MB 6.2 MB/s eta 0:00:02\n",
      "   --------------- ------------------------ 4.7/12.3 MB 6.3 MB/s eta 0:00:02\n",
      "   ---------------- ----------------------- 5.0/12.3 MB 6.3 MB/s eta 0:00:02\n",
      "   ----------------- ---------------------- 5.3/12.3 MB 6.1 MB/s eta 0:00:02\n",
      "   ------------------ --------------------- 5.6/12.3 MB 6.2 MB/s eta 0:00:02\n",
      "   ------------------- -------------------- 5.9/12.3 MB 6.1 MB/s eta 0:00:02\n",
      "   -------------------- ------------------- 6.2/12.3 MB 6.1 MB/s eta 0:00:02\n",
      "   --------------------- ------------------ 6.5/12.3 MB 6.3 MB/s eta 0:00:01\n",
      "   ---------------------- ----------------- 6.8/12.3 MB 6.2 MB/s eta 0:00:01\n",
      "   ----------------------- ---------------- 7.1/12.3 MB 6.2 MB/s eta 0:00:01\n",
      "   ------------------------ --------------- 7.4/12.3 MB 6.2 MB/s eta 0:00:01\n",
      "   ------------------------- -------------- 7.7/12.3 MB 6.2 MB/s eta 0:00:01\n",
      "   ------------------------- -------------- 8.0/12.3 MB 6.2 MB/s eta 0:00:01\n",
      "   -------------------------- ------------- 8.2/12.3 MB 6.2 MB/s eta 0:00:01\n",
      "   --------------------------- ------------ 8.5/12.3 MB 6.3 MB/s eta 0:00:01\n",
      "   ---------------------------- ----------- 8.9/12.3 MB 6.3 MB/s eta 0:00:01\n",
      "   ----------------------------- ---------- 9.2/12.3 MB 6.3 MB/s eta 0:00:01\n",
      "   ------------------------------ --------- 9.5/12.3 MB 6.3 MB/s eta 0:00:01\n",
      "   ------------------------------- -------- 9.8/12.3 MB 6.3 MB/s eta 0:00:01\n",
      "   -------------------------------- ------- 10.0/12.3 MB 6.3 MB/s eta 0:00:01\n",
      "   --------------------------------- ------ 10.3/12.3 MB 6.3 MB/s eta 0:00:01\n",
      "   ---------------------------------- ----- 10.5/12.3 MB 6.3 MB/s eta 0:00:01\n",
      "   ----------------------------------- ---- 10.8/12.3 MB 6.3 MB/s eta 0:00:01\n",
      "   ------------------------------------ --- 11.1/12.3 MB 6.3 MB/s eta 0:00:01\n",
      "   ------------------------------------ --- 11.3/12.3 MB 6.2 MB/s eta 0:00:01\n",
      "   ------------------------------------- -- 11.7/12.3 MB 6.3 MB/s eta 0:00:01\n",
      "   -------------------------------------- - 12.0/12.3 MB 6.3 MB/s eta 0:00:01\n",
      "   ---------------------------------------  12.3/12.3 MB 6.2 MB/s eta 0:00:01\n",
      "   ---------------------------------------- 12.3/12.3 MB 6.2 MB/s eta 0:00:00\n",
      "Downloading google_auth_httplib2-0.2.0-py2.py3-none-any.whl (9.3 kB)\n",
      "Using cached googleapis_common_protos-1.65.0-py2.py3-none-any.whl (220 kB)\n",
      "Downloading httplib2-0.22.0-py3-none-any.whl (96 kB)\n",
      "   ---------------------------------------- 0.0/96.9 kB ? eta -:--:--\n",
      "   ---------------------------------------- 96.9/96.9 kB 2.8 MB/s eta 0:00:00\n",
      "Downloading proto_plus-1.25.0-py3-none-any.whl (50 kB)\n",
      "   ---------------------------------------- 0.0/50.1 kB ? eta -:--:--\n",
      "   ---------------------------------------- 50.1/50.1 kB ? eta 0:00:00\n",
      "Using cached rsa-4.9-py3-none-any.whl (34 kB)\n",
      "Downloading uritemplate-4.1.1-py2.py3-none-any.whl (10 kB)\n",
      "Using cached grpcio-1.67.0-cp312-cp312-win_amd64.whl (4.3 MB)\n",
      "Downloading grpcio_status-1.67.0-py3-none-any.whl (14 kB)\n",
      "Downloading protobuf-5.28.3-cp310-abi3-win_amd64.whl (431 kB)\n",
      "   ---------------------------------------- 0.0/431.5 kB ? eta -:--:--\n",
      "   ----------------------- ---------------- 256.0/431.5 kB 7.7 MB/s eta 0:00:01\n",
      "   ---------------------------------------- 431.5/431.5 kB 6.7 MB/s eta 0:00:00\n",
      "Installing collected packages: uritemplate, rsa, protobuf, httplib2, grpcio, proto-plus, googleapis-common-protos, google-auth, grpcio-status, google-auth-httplib2, google-api-core, google-api-python-client, google-ai-generativelanguage, google.generativeai\n",
      "  Attempting uninstall: protobuf\n",
      "    Found existing installation: protobuf 3.20.3\n",
      "    Uninstalling protobuf-3.20.3:\n",
      "      Successfully uninstalled protobuf-3.20.3\n",
      "Successfully installed google-ai-generativelanguage-0.6.10 google-api-core-2.21.0 google-api-python-client-2.149.0 google-auth-2.35.0 google-auth-httplib2-0.2.0 google.generativeai-0.8.3 googleapis-common-protos-1.65.0 grpcio-1.67.0 grpcio-status-1.67.0 httplib2-0.22.0 proto-plus-1.25.0 protobuf-5.28.3 rsa-4.9 uritemplate-4.1.1\n"
     ]
    },
    {
     "name": "stderr",
     "output_type": "stream",
     "text": [
      "ERROR: pip's dependency resolver does not currently take into account all the packages that are installed. This behaviour is the source of the following dependency conflicts.\n",
      "streamlit 1.32.0 requires numpy<2,>=1.19.3, but you have numpy 2.0.2 which is incompatible.\n",
      "streamlit 1.32.0 requires protobuf<5,>=3.20, but you have protobuf 5.28.3 which is incompatible.\n"
     ]
    }
   ],
   "source": [
    "! pip install google.generativeai"
   ]
  },
  {
   "cell_type": "markdown",
   "id": "be4a8bd5-4050-478f-9c71-f59b6daf663f",
   "metadata": {},
   "source": [
    "# 1. Import Necessary libraries \n",
    "\n",
    "The google.generativeai library is used to configure the API key, upload files, and interact with the AI model. It helps to interact with the \n",
    "generative AI models that are available through the Google AI Gemini API.\n",
    "\n",
    "The markdown from IPython.display is used for markdown rendering for text generation. It is required to display the generated text in proper format.\n"
   ]
  },
  {
   "cell_type": "code",
   "execution_count": 19,
   "id": "6e6a3c84-e8dd-4c09-89c1-8404d5606aab",
   "metadata": {},
   "outputs": [],
   "source": [
    "import google.generativeai as genai\n",
    "from IPython.display import display, Markdown"
   ]
  },
  {
   "cell_type": "markdown",
   "id": "7261acf5-adc3-4934-a58b-a09a23ad588f",
   "metadata": {},
   "source": [
    "# 2. Configure the API Key"
   ]
  },
  {
   "cell_type": "code",
   "execution_count": 7,
   "id": "8dd09ac2-4005-494d-92c2-de7c646c8765",
   "metadata": {},
   "outputs": [],
   "source": [
    "GOOGLE_API_KEY =\"add your gemini key here\"\n",
    "genai.configure(api_key=GOOGLE_API_KEY)"
   ]
  },
  {
   "cell_type": "markdown",
   "id": "6754792c-85c0-4de5-82e6-4110a5ea68d3",
   "metadata": {},
   "source": [
    "# 3. Download the Data \n",
    "\n",
    "Download a markdown file named news.md that contains data about some news that we want to proofread."
   ]
  },
  {
   "cell_type": "code",
   "execution_count": 9,
   "id": "b5d6a8c8-d456-4c76-a341-da72150fd35a",
   "metadata": {},
   "outputs": [],
   "source": [
    "# Curl a markdown file\n",
    "!curl -so news.md https://raw.githubusercontent.com/Educative-Content/GoogleGemini/main/news.md"
   ]
  },
  {
   "cell_type": "markdown",
   "id": "77156260-99db-4971-b3dc-57182c93b9a3",
   "metadata": {},
   "source": [
    "# 4. Display the original data\n",
    "\n",
    "Print the data of the downloaded markdown file news.md to see the text with grammatical errors."
   ]
  },
  {
   "cell_type": "code",
   "execution_count": 15,
   "id": "7cb02e15-06fa-4c3e-9b31-af482947547f",
   "metadata": {},
   "outputs": [
    {
     "name": "stdout",
     "output_type": "stream",
     "text": [
      "Original News File:\n",
      "\n",
      "## Today's News Roundup (June 4, 2024)\n",
      "\n",
      "**SpaceX Soars witth Starlink Launch**\n",
      "\n",
      "SpaceX continues its dominance is the satellite internet market with another successful launch of their Falcon 9 rocket. This latest mission carried a fresh batch of Starlink satellites into orbit, further expanding theere constellation that provides internet access to remote and underserved regions. The company's ambitions for Starlink are vast, aiming to provide high-speed internet coverage across the globe. \n",
      "\n",
      "**Heatwave Scorches Europe**\n",
      "\n",
      "Europpe is grappling with a scorching heatwave, raising concerns about wildfires and water shortages in some areas. Record-breaking temperatures are pushing infrastructure to its limits, with power grids facing increased strain due to heightened air conditioning usage. Firefighters remain on high alert as dry conditions and strong winds increase the risk of wildfires. Authorities are urging citizens to conserve water and stay hydrated during this period of extreme heat.\n",
      "\n",
      "**Appple Unveils New iPhones**\n",
      "\n",
      "Tech giant Apple unveiled its latest line of iPhones at their annual product launch event. The new models boast a range of improvements, including faster processors that promise smoother performance and enhanced camera capabilities designed to capture even more stunning photos and videos. Analysts predict strong sales for the new devices, with loyal customers eager to upgrade to the latest technology. \n",
      "\n",
      "**US-Chinaa Leaders Hold Virtual Summit**\n",
      "\n",
      "In a move to address pressing global issues, leaders from the United States and China held a virtual summit. Trade and global security dominated the discussions.\n",
      "\n"
     ]
    }
   ],
   "source": [
    "# Print the original file with grammatical errors\n",
    "with open(\"C:/Users/ariji/Exploratory Data Analysis/news.md\", 'r') as f:\n",
    "  markdown_text = f.read()\n",
    "\n",
    "# Print the downloaded markdown file\n",
    "print(\"Original News File:\\n\")\n",
    "print(markdown_text)"
   ]
  },
  {
   "cell_type": "markdown",
   "id": "500fec8c-7199-4e37-9b85-bed2af232388",
   "metadata": {},
   "source": [
    "# 5. Prepare the input data \n",
    "\n",
    "Upload the downloaded file for further processing from where the Gemini model can access and process the content. For this, we temporarily store our data file on Google’s servers using the genai.upload_file() method. This method has three parameters:\n",
    "\n",
    "C:/Users/ariji/Exploratory Data Analysis/news.md: The path of the file.\n",
    "\n",
    "news: A name for file identification purposes.\n",
    "\n",
    "text/markdown: The type of the file."
   ]
  },
  {
   "cell_type": "code",
   "execution_count": 27,
   "id": "b07b9172-2006-4c58-abd9-d0611b9da949",
   "metadata": {},
   "outputs": [],
   "source": [
    "# Upload the file\n",
    "\n",
    "news_file = genai.upload_file(path=\"C:/Users/ariji/Exploratory Data Analysis/news.md\", display_name=\"news\", mime_type=\"text/markdown\")"
   ]
  },
  {
   "cell_type": "code",
   "execution_count": 29,
   "id": "66f35668-5049-4c25-b8d8-76d14f8b247e",
   "metadata": {},
   "outputs": [
    {
     "data": {
      "text/plain": [
       "genai.File({\n",
       "    'name': 'files/8s0dojm23ko9',\n",
       "    'display_name': 'news',\n",
       "    'mime_type': 'text/markdown',\n",
       "    'sha256_hash': 'MDQ1Zjg2NDUyMGEzMjFkNDNkMTY0ZDRhZTRmYTk2YjgzZjhlYTBmZjM2ODMyMDQ5MjI4NDgyM2QwMDc2N2NiZA==',\n",
       "    'size_bytes': '1663',\n",
       "    'state': 'ACTIVE',\n",
       "    'uri': 'https://generativelanguage.googleapis.com/v1beta/files/8s0dojm23ko9',\n",
       "    'create_time': '2024-10-24T03:56:22.118882Z',\n",
       "    'expiration_time': '2024-10-26T03:56:22.062310779Z',\n",
       "    'update_time': '2024-10-24T03:56:22.118882Z'})"
      ]
     },
     "execution_count": 29,
     "metadata": {},
     "output_type": "execute_result"
    }
   ],
   "source": [
    "news_file"
   ]
  },
  {
   "cell_type": "markdown",
   "id": "09db0a8a-cdbf-46b9-8344-e0b04ec10094",
   "metadata": {},
   "source": [
    "# 6. Invoke the Gemini model\n",
    "\n",
    "Use the gemini-1.5-pro-latest model and pass the input prompt. We’ll pass a specific prompt to the model:\n",
    "\n",
    "Instruction prompt to fix grammatical and spelling errors in the text, translate the corrected text, and show the mistakes that have been fixed.\n",
    "\n",
    "File reference"
   ]
  },
  {
   "cell_type": "code",
   "execution_count": 32,
   "id": "74b9ce25-d215-4048-a20d-6fa9f66f6456",
   "metadata": {},
   "outputs": [],
   "source": [
    "\n",
    "# Using the gemini-1.5-pro-latest model, pass the input prompt\n",
    "model = genai.GenerativeModel(model_name=\"models/gemini-1.5-pro-latest\")\n",
    "response = model.generate_content(\n",
    "    [\n",
    "        \"Fix the grammar and spelling errors in the news text and generate an error-free text. Translate the corrected text into the French language. Show the mistakes that you fixed under a separate section.\",\n",
    "        news_file,\n",
    "    ]\n",
    ")"
   ]
  },
  {
   "cell_type": "code",
   "execution_count": 34,
   "id": "63cdc92f-17ca-49bc-84d5-67aee61f337f",
   "metadata": {},
   "outputs": [
    {
     "data": {
      "text/plain": [
       "genai.GenerativeModel(\n",
       "    model_name='models/gemini-1.5-pro-latest',\n",
       "    generation_config={},\n",
       "    safety_settings={},\n",
       "    tools=None,\n",
       "    system_instruction=None,\n",
       "    cached_content=None\n",
       ")"
      ]
     },
     "execution_count": 34,
     "metadata": {},
     "output_type": "execute_result"
    }
   ],
   "source": [
    "model"
   ]
  },
  {
   "cell_type": "code",
   "execution_count": null,
   "id": "4621e6c5-38ac-40d4-9c0d-ef405da4af9f",
   "metadata": {},
   "outputs": [],
   "source": [
    "# 7. Decode and display the output"
   ]
  },
  {
   "cell_type": "code",
   "execution_count": 36,
   "id": "8752f054-6a95-4b07-8e3f-8aa1f625256c",
   "metadata": {},
   "outputs": [
    {
     "name": "stdout",
     "output_type": "stream",
     "text": [
      "Updated News File:\n",
      "\n"
     ]
    },
    {
     "data": {
      "text/markdown": [
       "## Today's News Roundup (June 4, 2024)\n",
       "\n",
       "**SpaceX Soars with Starlink Launch**\n",
       "\n",
       "SpaceX continues its dominance in the satellite internet market with another successful launch of its Falcon 9 rocket. This latest mission carried a fresh batch of Starlink satellites into orbit, further expanding the constellation that provides internet access to remote and underserved regions. The company's ambitions for Starlink are vast, aiming to provide high-speed internet coverage across the globe. \n",
       "\n",
       "**Heatwave Scorches Europe**\n",
       "\n",
       "Europe is grappling with a scorching heatwave, raising concerns about wildfires and water shortages in some areas. Record-breaking temperatures are pushing infrastructure to its limits, with power grids facing increased strain due to heightened air conditioning usage. Firefighters remain on high alert as dry conditions and strong winds increase the risk of wildfires. Authorities are urging citizens to conserve water and stay hydrated during this period of extreme heat.\n",
       "\n",
       "**Apple Unveils New iPhones**\n",
       "\n",
       "Tech giant Apple unveiled its latest line of iPhones at its annual product launch event. The new models boast a range of improvements, including faster processors that promise smoother performance and enhanced camera capabilities designed to capture even more stunning photos and videos. Analysts predict strong sales for the new devices, with loyal customers eager to upgrade to the latest technology. \n",
       "\n",
       "**US-China Leaders Hold Virtual Summit**\n",
       "\n",
       "In a move to address pressing global issues, leaders from the United States and China held a virtual summit. Trade and global security dominated the discussions.\n",
       "\n",
       "## French Translation:\n",
       "\n",
       "**Rassemblement d'actualités du jour (4 juin 2024)**\n",
       "\n",
       "**SpaceX s'envole avec le lancement de Starlink**\n",
       "\n",
       "SpaceX continue de dominer le marché de l'Internet par satellite avec un autre lancement réussi de sa fusée Falcon 9. Cette dernière mission a mis en orbite un nouveau lot de satellites Starlink, élargissant ainsi la constellation qui fournit un accès Internet aux régions isolées et mal desservies. Les ambitions de l'entreprise pour Starlink sont vastes, visant à fournir une couverture Internet haut débit à travers le monde.\n",
       "\n",
       "**La canicule frappe l'Europe**\n",
       "\n",
       "L'Europe est aux prises avec une vague de chaleur torride, suscitant des inquiétudes quant aux feux de forêt et aux pénuries d'eau dans certaines régions. Les températures records poussent les infrastructures à leurs limites, les réseaux électriques étant confrontés à une pression accrue en raison de l'utilisation accrue de la climatisation. Les pompiers restent en état d'alerte maximale car les conditions sèches et les vents forts augmentent le risque de feux de forêt. Les autorités exhortent les citoyens à économiser l'eau et à rester hydratés pendant cette période de chaleur extrême.\n",
       "\n",
       "**Apple dévoile ses nouveaux iPhones**\n",
       "\n",
       "Le géant de la technologie Apple a dévoilé sa dernière gamme d'iPhones lors de son événement annuel de lancement de produits. Les nouveaux modèles bénéficient d'une série d'améliorations, notamment des processeurs plus rapides qui promettent des performances plus fluides et des capacités d'appareil photo améliorées conçues pour capturer des photos et des vidéos encore plus époustouflantes. Les analystes prédisent de fortes ventes pour les nouveaux appareils, les clients fidèles étant impatients de passer à la dernière technologie.\n",
       "\n",
       "**Les dirigeants américain et chinois tiennent un sommet virtuel**\n",
       "\n",
       "Afin d'aborder les problèmes mondiaux urgents, les dirigeants des États-Unis et de la Chine ont tenu un sommet virtuel. Le commerce et la sécurité mondiale ont dominé les discussions.\n",
       "\n",
       "## Errors Corrected:\n",
       "\n",
       "* **witth** corrected to **with**\n",
       "* **is the** corrected to **in the** \n",
       "* **theere** corrected to **the**\n",
       "* **Europpe** corrected to **Europe**\n",
       "* **Appple** corrected to **Apple**\n",
       "* **their** corrected to **its** (referring to Apple)\n",
       "* **US-Chinaa** corrected to **US-China** \n"
      ],
      "text/plain": [
       "<IPython.core.display.Markdown object>"
      ]
     },
     "execution_count": 36,
     "metadata": {},
     "output_type": "execute_result"
    }
   ],
   "source": [
    "# # Method to display the result data\n",
    "def output(text):\n",
    "  text = text.replace('•', '  *')\n",
    "  return Markdown(text)\n",
    "  \n",
    "# Display the result data\n",
    "print(\"Updated News File:\\n\")\n",
    "output(response.text)"
   ]
  },
  {
   "cell_type": "code",
   "execution_count": null,
   "id": "a76b5fbf-64f6-47a6-87df-307ad625377d",
   "metadata": {},
   "outputs": [],
   "source": []
  },
  {
   "cell_type": "code",
   "execution_count": null,
   "id": "1eccfc33-6365-42f7-a9e1-34c4886fb393",
   "metadata": {},
   "outputs": [],
   "source": []
  },
  {
   "cell_type": "code",
   "execution_count": null,
   "id": "c1e93ab3-ae71-46a6-be38-48e835bd6448",
   "metadata": {},
   "outputs": [],
   "source": []
  },
  {
   "cell_type": "code",
   "execution_count": null,
   "id": "fcfe57dc-4765-4a46-a4fe-079aa962fabf",
   "metadata": {},
   "outputs": [],
   "source": []
  }
 ],
 "metadata": {
  "kernelspec": {
   "display_name": "Python 3 (ipykernel)",
   "language": "python",
   "name": "python3"
  },
  "language_info": {
   "codemirror_mode": {
    "name": "ipython",
    "version": 3
   },
   "file_extension": ".py",
   "mimetype": "text/x-python",
   "name": "python",
   "nbconvert_exporter": "python",
   "pygments_lexer": "ipython3",
   "version": "3.12.4"
  }
 },
 "nbformat": 4,
 "nbformat_minor": 5
}
